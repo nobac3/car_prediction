{
  "nbformat": 4,
  "nbformat_minor": 0,
  "metadata": {
    "kernelspec": {
      "display_name": "Python 3",
      "language": "python",
      "name": "python3"
    },
    "language_info": {
      "codemirror_mode": {
        "name": "ipython",
        "version": 3
      },
      "file_extension": ".py",
      "mimetype": "text/x-python",
      "name": "python",
      "nbconvert_exporter": "python",
      "pygments_lexer": "ipython3",
      "version": "3.6.5"
    },
    "colab": {
      "name": " car_predictions.ipynb",
      "provenance": [],
      "collapsed_sections": []
    }
  },
  "cells": [
    {
      "cell_type": "code",
      "metadata": {
        "id": "4qvYd3_-rFga",
        "colab_type": "code",
        "colab": {}
      },
      "source": [
        "import numpy as np\n",
        "import pandas as pd\n",
        "import matplotlib.pyplot as plt\n",
        "import seaborn as sns\n",
        "import re\n",
        "import os\n",
        "import datetime\n",
        "from dateutil.relativedelta import relativedelta\n",
        "\n",
        "%matplotlib inline"
      ],
      "execution_count": 0,
      "outputs": []
    },
    {
      "cell_type": "markdown",
      "metadata": {
        "id": "rHIgj-FkOOZ1",
        "colab_type": "text"
      },
      "source": [
        "note : \n",
        "\n",
        "description plusieurs rubrique -> bonne idée l'extraction des données.\n",
        "année et age qui influence le prix et la date de mise en ligne. calcul de l'age pour explication du prix .\n",
        "-> eda à faire \n"
      ]
    },
    {
      "cell_type": "markdown",
      "metadata": {
        "id": "SUpu4qgK_hed",
        "colab_type": "text"
      },
      "source": [
        "Prochaine question : comment faire une bonne vérification map pour algo ,le word2vec  LES VERSIONS. "
      ]
    },
    {
      "cell_type": "markdown",
      "metadata": {
        "id": "bayAA30y_wHz",
        "colab_type": "text"
      },
      "source": [
        "#Exploration de la donnée : \n",
        "pour arriver à avoir un bon algo. Il faut une exploration de donnée pour savoir quelle variable va plus influence que d'autre le prix du véhicule. "
      ]
    },
    {
      "cell_type": "code",
      "metadata": {
        "id": "q2iv7Vq1rFgp",
        "colab_type": "code",
        "outputId": "0f78e8e8-8800-47df-c56c-3c31830f0267",
        "colab": {
          "base_uri": "https://localhost:8080/",
          "height": 477
        }
      },
      "source": [
        "df = pd.read_csv(\"Data_cars.csv\")"
      ],
      "execution_count": 0,
      "outputs": [
        {
          "output_type": "error",
          "ename": "ParserError",
          "evalue": "ignored",
          "traceback": [
            "\u001b[0;31m---------------------------------------------------------------------------\u001b[0m",
            "\u001b[0;31mParserError\u001b[0m                               Traceback (most recent call last)",
            "\u001b[0;32m<ipython-input-13-ee62b818ef0f>\u001b[0m in \u001b[0;36m<module>\u001b[0;34m()\u001b[0m\n\u001b[0;32m----> 1\u001b[0;31m \u001b[0mdf\u001b[0m \u001b[0;34m=\u001b[0m \u001b[0mpd\u001b[0m\u001b[0;34m.\u001b[0m\u001b[0mread_csv\u001b[0m\u001b[0;34m(\u001b[0m\u001b[0;34m\"Data_cars.csv\"\u001b[0m\u001b[0;34m)\u001b[0m\u001b[0;34m\u001b[0m\u001b[0;34m\u001b[0m\u001b[0m\n\u001b[0m",
            "\u001b[0;32m/usr/local/lib/python3.6/dist-packages/pandas/io/parsers.py\u001b[0m in \u001b[0;36mparser_f\u001b[0;34m(filepath_or_buffer, sep, delimiter, header, names, index_col, usecols, squeeze, prefix, mangle_dupe_cols, dtype, engine, converters, true_values, false_values, skipinitialspace, skiprows, skipfooter, nrows, na_values, keep_default_na, na_filter, verbose, skip_blank_lines, parse_dates, infer_datetime_format, keep_date_col, date_parser, dayfirst, cache_dates, iterator, chunksize, compression, thousands, decimal, lineterminator, quotechar, quoting, doublequote, escapechar, comment, encoding, dialect, error_bad_lines, warn_bad_lines, delim_whitespace, low_memory, memory_map, float_precision)\u001b[0m\n\u001b[1;32m    674\u001b[0m         )\n\u001b[1;32m    675\u001b[0m \u001b[0;34m\u001b[0m\u001b[0m\n\u001b[0;32m--> 676\u001b[0;31m         \u001b[0;32mreturn\u001b[0m \u001b[0m_read\u001b[0m\u001b[0;34m(\u001b[0m\u001b[0mfilepath_or_buffer\u001b[0m\u001b[0;34m,\u001b[0m \u001b[0mkwds\u001b[0m\u001b[0;34m)\u001b[0m\u001b[0;34m\u001b[0m\u001b[0;34m\u001b[0m\u001b[0m\n\u001b[0m\u001b[1;32m    677\u001b[0m \u001b[0;34m\u001b[0m\u001b[0m\n\u001b[1;32m    678\u001b[0m     \u001b[0mparser_f\u001b[0m\u001b[0;34m.\u001b[0m\u001b[0m__name__\u001b[0m \u001b[0;34m=\u001b[0m \u001b[0mname\u001b[0m\u001b[0;34m\u001b[0m\u001b[0;34m\u001b[0m\u001b[0m\n",
            "\u001b[0;32m/usr/local/lib/python3.6/dist-packages/pandas/io/parsers.py\u001b[0m in \u001b[0;36m_read\u001b[0;34m(filepath_or_buffer, kwds)\u001b[0m\n\u001b[1;32m    452\u001b[0m \u001b[0;34m\u001b[0m\u001b[0m\n\u001b[1;32m    453\u001b[0m     \u001b[0;32mtry\u001b[0m\u001b[0;34m:\u001b[0m\u001b[0;34m\u001b[0m\u001b[0;34m\u001b[0m\u001b[0m\n\u001b[0;32m--> 454\u001b[0;31m         \u001b[0mdata\u001b[0m \u001b[0;34m=\u001b[0m \u001b[0mparser\u001b[0m\u001b[0;34m.\u001b[0m\u001b[0mread\u001b[0m\u001b[0;34m(\u001b[0m\u001b[0mnrows\u001b[0m\u001b[0;34m)\u001b[0m\u001b[0;34m\u001b[0m\u001b[0;34m\u001b[0m\u001b[0m\n\u001b[0m\u001b[1;32m    455\u001b[0m     \u001b[0;32mfinally\u001b[0m\u001b[0;34m:\u001b[0m\u001b[0;34m\u001b[0m\u001b[0;34m\u001b[0m\u001b[0m\n\u001b[1;32m    456\u001b[0m         \u001b[0mparser\u001b[0m\u001b[0;34m.\u001b[0m\u001b[0mclose\u001b[0m\u001b[0;34m(\u001b[0m\u001b[0;34m)\u001b[0m\u001b[0;34m\u001b[0m\u001b[0;34m\u001b[0m\u001b[0m\n",
            "\u001b[0;32m/usr/local/lib/python3.6/dist-packages/pandas/io/parsers.py\u001b[0m in \u001b[0;36mread\u001b[0;34m(self, nrows)\u001b[0m\n\u001b[1;32m   1131\u001b[0m     \u001b[0;32mdef\u001b[0m \u001b[0mread\u001b[0m\u001b[0;34m(\u001b[0m\u001b[0mself\u001b[0m\u001b[0;34m,\u001b[0m \u001b[0mnrows\u001b[0m\u001b[0;34m=\u001b[0m\u001b[0;32mNone\u001b[0m\u001b[0;34m)\u001b[0m\u001b[0;34m:\u001b[0m\u001b[0;34m\u001b[0m\u001b[0;34m\u001b[0m\u001b[0m\n\u001b[1;32m   1132\u001b[0m         \u001b[0mnrows\u001b[0m \u001b[0;34m=\u001b[0m \u001b[0m_validate_integer\u001b[0m\u001b[0;34m(\u001b[0m\u001b[0;34m\"nrows\"\u001b[0m\u001b[0;34m,\u001b[0m \u001b[0mnrows\u001b[0m\u001b[0;34m)\u001b[0m\u001b[0;34m\u001b[0m\u001b[0;34m\u001b[0m\u001b[0m\n\u001b[0;32m-> 1133\u001b[0;31m         \u001b[0mret\u001b[0m \u001b[0;34m=\u001b[0m \u001b[0mself\u001b[0m\u001b[0;34m.\u001b[0m\u001b[0m_engine\u001b[0m\u001b[0;34m.\u001b[0m\u001b[0mread\u001b[0m\u001b[0;34m(\u001b[0m\u001b[0mnrows\u001b[0m\u001b[0;34m)\u001b[0m\u001b[0;34m\u001b[0m\u001b[0;34m\u001b[0m\u001b[0m\n\u001b[0m\u001b[1;32m   1134\u001b[0m \u001b[0;34m\u001b[0m\u001b[0m\n\u001b[1;32m   1135\u001b[0m         \u001b[0;31m# May alter columns / col_dict\u001b[0m\u001b[0;34m\u001b[0m\u001b[0;34m\u001b[0m\u001b[0;34m\u001b[0m\u001b[0m\n",
            "\u001b[0;32m/usr/local/lib/python3.6/dist-packages/pandas/io/parsers.py\u001b[0m in \u001b[0;36mread\u001b[0;34m(self, nrows)\u001b[0m\n\u001b[1;32m   2035\u001b[0m     \u001b[0;32mdef\u001b[0m \u001b[0mread\u001b[0m\u001b[0;34m(\u001b[0m\u001b[0mself\u001b[0m\u001b[0;34m,\u001b[0m \u001b[0mnrows\u001b[0m\u001b[0;34m=\u001b[0m\u001b[0;32mNone\u001b[0m\u001b[0;34m)\u001b[0m\u001b[0;34m:\u001b[0m\u001b[0;34m\u001b[0m\u001b[0;34m\u001b[0m\u001b[0m\n\u001b[1;32m   2036\u001b[0m         \u001b[0;32mtry\u001b[0m\u001b[0;34m:\u001b[0m\u001b[0;34m\u001b[0m\u001b[0;34m\u001b[0m\u001b[0m\n\u001b[0;32m-> 2037\u001b[0;31m             \u001b[0mdata\u001b[0m \u001b[0;34m=\u001b[0m \u001b[0mself\u001b[0m\u001b[0;34m.\u001b[0m\u001b[0m_reader\u001b[0m\u001b[0;34m.\u001b[0m\u001b[0mread\u001b[0m\u001b[0;34m(\u001b[0m\u001b[0mnrows\u001b[0m\u001b[0;34m)\u001b[0m\u001b[0;34m\u001b[0m\u001b[0;34m\u001b[0m\u001b[0m\n\u001b[0m\u001b[1;32m   2038\u001b[0m         \u001b[0;32mexcept\u001b[0m \u001b[0mStopIteration\u001b[0m\u001b[0;34m:\u001b[0m\u001b[0;34m\u001b[0m\u001b[0;34m\u001b[0m\u001b[0m\n\u001b[1;32m   2039\u001b[0m             \u001b[0;32mif\u001b[0m \u001b[0mself\u001b[0m\u001b[0;34m.\u001b[0m\u001b[0m_first_chunk\u001b[0m\u001b[0;34m:\u001b[0m\u001b[0;34m\u001b[0m\u001b[0;34m\u001b[0m\u001b[0m\n",
            "\u001b[0;32mpandas/_libs/parsers.pyx\u001b[0m in \u001b[0;36mpandas._libs.parsers.TextReader.read\u001b[0;34m()\u001b[0m\n",
            "\u001b[0;32mpandas/_libs/parsers.pyx\u001b[0m in \u001b[0;36mpandas._libs.parsers.TextReader._read_low_memory\u001b[0;34m()\u001b[0m\n",
            "\u001b[0;32mpandas/_libs/parsers.pyx\u001b[0m in \u001b[0;36mpandas._libs.parsers.TextReader._read_rows\u001b[0;34m()\u001b[0m\n",
            "\u001b[0;32mpandas/_libs/parsers.pyx\u001b[0m in \u001b[0;36mpandas._libs.parsers.TextReader._tokenize_rows\u001b[0;34m()\u001b[0m\n",
            "\u001b[0;32mpandas/_libs/parsers.pyx\u001b[0m in \u001b[0;36mpandas._libs.parsers.raise_parser_error\u001b[0;34m()\u001b[0m\n",
            "\u001b[0;31mParserError\u001b[0m: Error tokenizing data. C error: EOF inside string starting at row 110740"
          ]
        }
      ]
    },
    {
      "cell_type": "code",
      "metadata": {
        "id": "WNesscwjrFgw",
        "colab_type": "code",
        "colab": {}
      },
      "source": [
        "df.head()"
      ],
      "execution_count": 0,
      "outputs": []
    },
    {
      "cell_type": "code",
      "metadata": {
        "id": "vPNMStPTG5JU",
        "colab_type": "code",
        "colab": {}
      },
      "source": [
        "df.shape"
      ],
      "execution_count": 0,
      "outputs": []
    },
    {
      "cell_type": "code",
      "metadata": {
        "id": "6HO2Q8B5Gzn-",
        "colab_type": "code",
        "colab": {}
      },
      "source": [
        "df.info()"
      ],
      "execution_count": 0,
      "outputs": []
    },
    {
      "cell_type": "code",
      "metadata": {
        "id": "YyKUVKMUrFg0",
        "colab_type": "code",
        "colab": {}
      },
      "source": [
        "df['Description'].head()"
      ],
      "execution_count": 0,
      "outputs": []
    },
    {
      "cell_type": "code",
      "metadata": {
        "id": "tAo9IA1LHCkB",
        "colab_type": "code",
        "colab": {}
      },
      "source": [
        "df.isnull().sum()"
      ],
      "execution_count": 0,
      "outputs": []
    },
    {
      "cell_type": "markdown",
      "metadata": {
        "id": "pbCWeEUcNi7Y",
        "colab_type": "text"
      },
      "source": [
        "On ne voit pas de valeur non null donc il y a pas de nettoyage particulier à faire à ce niveau là. "
      ]
    },
    {
      "cell_type": "markdown",
      "metadata": {
        "id": "fTVS5CejOztG",
        "colab_type": "text"
      },
      "source": [
        "On essaie de trouver des variables intéressante."
      ]
    },
    {
      "cell_type": "code",
      "metadata": {
        "id": "GHCT2l2u28s-",
        "colab_type": "code",
        "colab": {}
      },
      "source": [
        "df['Online'] = pd.to_datetime(df['Online'], format='%d/%m/%Y à %Hh%M', errors='ignore')"
      ],
      "execution_count": 0,
      "outputs": []
    },
    {
      "cell_type": "markdown",
      "metadata": {
        "id": "0HF6g1czTGrN",
        "colab_type": "text"
      },
      "source": [
        "#visualisation de la donnée\n"
      ]
    },
    {
      "cell_type": "markdown",
      "metadata": {
        "id": "OlhUIg8w-uDh",
        "colab_type": "text"
      },
      "source": [
        "# Nouvelle section"
      ]
    },
    {
      "cell_type": "code",
      "metadata": {
        "id": "D-41FEDSYGVC",
        "colab_type": "code",
        "colab": {}
      },
      "source": [
        "pie = ['Fuel']\n",
        "\n",
        "fig = plt.figure(figsize = (15,15))\n",
        "axes = 220\n",
        "for p in pie:\n",
        "    axes += 1\n",
        "    fig.add_subplot(axes)\n",
        "    plt.pie(df[p].value_counts(), labels=df[p].unique(),autopct='%1.1f%%', shadow=True, startangle=45);\n",
        "    plt.title(p.upper())\n",
        "plt.show()"
      ],
      "execution_count": 0,
      "outputs": []
    },
    {
      "cell_type": "code",
      "metadata": {
        "id": "ixNlUwj3OEEt",
        "colab_type": "code",
        "colab": {}
      },
      "source": [
        "plt.figure(figsize=(20,15))\n",
        "ax = sns.countplot(x='Model_year',data=df);\n",
        "ax.set_xticklabels(ax.get_xticklabels(), rotation=90, ha=\"right\",fontsize=6);\n"
      ],
      "execution_count": 0,
      "outputs": []
    },
    {
      "cell_type": "code",
      "metadata": {
        "id": "5tdZrroW4f9c",
        "colab_type": "code",
        "colab": {}
      },
      "source": [
        "plt.figure(figsize=(20,15))\n",
        "ax = sns.countplot(x='Make',data=df);\n",
        "ax.set_xticklabels(ax.get_xticklabels(), rotation=90, ha=\"right\",fontsize=6);\n"
      ],
      "execution_count": 0,
      "outputs": []
    },
    {
      "cell_type": "code",
      "metadata": {
        "id": "a4qH7IX0HQOH",
        "colab_type": "code",
        "colab": {}
      },
      "source": [
        "#create correlation\n",
        "corr = df.corr(method = 'pearson')\n",
        "\n",
        "#convert correlation to numpy array\n",
        "mask = np.array(corr)\n",
        "\n",
        "#to mask the repetitive value for each pair\n",
        "mask[np.tril_indices_from(mask)] = False\n",
        "fig, ax = plt.subplots(figsize = (15,12))\n",
        "fig.set_size_inches(15,15)\n",
        "sns.heatmap(corr, mask = mask, vmax = 0.9, square = True, annot = True)\n"
      ],
      "execution_count": 0,
      "outputs": []
    },
    {
      "cell_type": "markdown",
      "metadata": {
        "id": "cuoz_i7KQm-T",
        "colab_type": "text"
      },
      "source": [
        "on voit que le prix le model et année influence le modele.\n",
        "Mais la description est remplie d'élément utilisable on va donc retirer ces éléments pour améliorer le modéle. "
      ]
    },
    {
      "cell_type": "markdown",
      "metadata": {
        "id": "4P4xqb6DADCf",
        "colab_type": "text"
      },
      "source": [
        "Préparation à la création de l'algo:"
      ]
    },
    {
      "cell_type": "code",
      "metadata": {
        "id": "rJ9C82EhUGIJ",
        "colab_type": "code",
        "colab": {}
      },
      "source": [
        "df.Description.iloc[0]"
      ],
      "execution_count": 0,
      "outputs": []
    },
    {
      "cell_type": "code",
      "metadata": {
        "id": "LENDzAHsrFg6",
        "colab_type": "code",
        "colab": {}
      },
      "source": [
        "# puissance_fiscale  \n",
        "# portes \n",
        "# couleur\n",
        "# description plus \n",
        "#cycle moteur \n",
        "#puissance du véhicule\n",
        "#age seront les éléments que devront prendre en compte l'algo"
      ],
      "execution_count": 0,
      "outputs": []
    },
    {
      "cell_type": "code",
      "metadata": {
        "id": "liv6snVz3ET8",
        "colab_type": "code",
        "colab": {}
      },
      "source": [
        "df['Mileage'] = pd.to_numeric(df['Mileage']) "
      ],
      "execution_count": 0,
      "outputs": []
    },
    {
      "cell_type": "code",
      "metadata": {
        "id": "k0W7Um6m3LQM",
        "colab_type": "code",
        "colab": {}
      },
      "source": [
        "d = {'puissance_fiscale':[],\n",
        "    'portes':[], \n",
        "     'version':[],\n",
        "     'couleur':[], \n",
        "     'options':[]\n",
        "    }\n",
        "\n",
        "\n",
        "for x in df['Description']:\n",
        "    match = re.search(r\"puissance_fiscale:(.*?),\", x)\n",
        "    # converts string to int \n",
        "    d['puissance_fiscale'].append(int(match.group(1)))\n",
        "    \n",
        "    \n",
        "    match = re.search(r'version:(.*?),', x)\n",
        "    d['version'].append(match.group(1))\n",
        "    \n",
        "    match = re.search(r\"portes:(.*?),\", x)\n",
        "    #converts string to int\n",
        "    \n",
        "    try:\n",
        "        d['portes'].append(float(match.group(1).strip()))\n",
        "        \n",
        "    except: \n",
        "        d['portes'].append(None)\n",
        "        \n",
        "    match = re.search(r\"couleur:(?P<name>[A-Za-z\\t .]+)\", x)\n",
        "    d['couleur'].append(match.group(1))\n",
        "\n",
        "    match = re.search(r\"options:(.*?),\", x)\n",
        "    d['options'].append(match.group(1))"
      ],
      "execution_count": 0,
      "outputs": []
    },
    {
      "cell_type": "code",
      "metadata": {
        "id": "nUAA22SI3PIf",
        "colab_type": "code",
        "colab": {}
      },
      "source": [
        "d['couleur'] = [x.lower() for x in d['couleur']]"
      ],
      "execution_count": 0,
      "outputs": []
    },
    {
      "cell_type": "code",
      "metadata": {
        "id": "QGZrQl-f3SLE",
        "colab_type": "code",
        "colab": {}
      },
      "source": [
        "df1 = pd.DataFrame(d, columns=['puissance_fiscale', 'portes', 'version','couleur', 'options'])"
      ],
      "execution_count": 0,
      "outputs": []
    },
    {
      "cell_type": "code",
      "metadata": {
        "id": "qp0Tbbpt3Ww_",
        "colab_type": "code",
        "colab": {}
      },
      "source": [
        "df1.head()"
      ],
      "execution_count": 0,
      "outputs": []
    },
    {
      "cell_type": "code",
      "metadata": {
        "id": "CiIqtorx3Zy9",
        "colab_type": "code",
        "colab": {}
      },
      "source": [
        "df = pd.concat([df, df1], axis=1, sort=False)"
      ],
      "execution_count": 0,
      "outputs": []
    },
    {
      "cell_type": "code",
      "metadata": {
        "id": "7PTiUxPJ3ag1",
        "colab_type": "code",
        "colab": {}
      },
      "source": [
        "df = df.drop('Description', axis=1)"
      ],
      "execution_count": 0,
      "outputs": []
    },
    {
      "cell_type": "code",
      "metadata": {
        "id": "qybjsjADU35I",
        "colab_type": "code",
        "colab": {}
      },
      "source": [
        "#on commence par l'age \n",
        "d = {'age':[]}\n",
        "\n",
        "for x in df['Online']:\n",
        "\n",
        "    y = relativedelta(x(),Model_year).years\n",
        "    d['age'].append(y)\n"
      ],
      "execution_count": 0,
      "outputs": []
    },
    {
      "cell_type": "code",
      "metadata": {
        "id": "jXehBQX62mtw",
        "colab_type": "code",
        "colab": {}
      },
      "source": [
        "df1 = pd.DataFrame(d, columns=['age'])"
      ],
      "execution_count": 0,
      "outputs": []
    },
    {
      "cell_type": "code",
      "metadata": {
        "id": "qGsIk2Q52qxW",
        "colab_type": "code",
        "colab": {}
      },
      "source": [
        "df = pd.concat([df, df1], axis=1, sort=False)"
      ],
      "execution_count": 0,
      "outputs": []
    },
    {
      "cell_type": "code",
      "metadata": {
        "id": "5JZ4UcFy2ukm",
        "colab_type": "code",
        "colab": {}
      },
      "source": [
        "df.head()"
      ],
      "execution_count": 0,
      "outputs": []
    },
    {
      "cell_type": "code",
      "metadata": {
        "id": "b_AP-n_a3pWF",
        "colab_type": "code",
        "colab": {}
      },
      "source": [
        "df.corr()"
      ],
      "execution_count": 0,
      "outputs": []
    },
    {
      "cell_type": "code",
      "metadata": {
        "id": "MQ3aigs73zJM",
        "colab_type": "code",
        "colab": {}
      },
      "source": [
        "texts = df['couleur'].to_numpy()"
      ],
      "execution_count": 0,
      "outputs": []
    },
    {
      "cell_type": "code",
      "metadata": {
        "id": "O_TDW-Wi32TU",
        "colab_type": "code",
        "colab": {}
      },
      "source": [
        "d = {\n",
        "    'cylindre': [], \n",
        "     'cheveaux': []\n",
        "    }\n",
        "\n",
        "for x in df['version']:\n",
        "    try: \n",
        "        \n",
        "        match = re.search(r'[+-]?(\\d+(\\.\\d*)|\\.\\d+)([eE][+-]?\\d+)?', x)\n",
        "        d['cylindre'].append(float(match.group(1)))\n",
        "    \n",
        "    except: \n",
        "        d['cylindre'].append(None)\n",
        "        \n",
        "    try: \n",
        "        \n",
        "        match = re.findall(r'([0-9]{2,3})', x)\n",
        "        temp = [int (n) for n in match]\n",
        "        d['cheveaux'].append(max(temp))\n",
        "        \n",
        "    except: \n",
        "        \n",
        "        d['cheveaux'].append(None)\n",
        "        \n",
        "        \n"
      ],
      "execution_count": 0,
      "outputs": []
    },
    {
      "cell_type": "code",
      "metadata": {
        "id": "Ei1eDXxJ35vn",
        "colab_type": "code",
        "colab": {}
      },
      "source": [
        "import requests\n",
        "from bs4 import BeautifulSoup\n",
        "\n",
        "\n",
        "def getCylinder(make, model):\n",
        "\n",
        "    URL = 'https://www.autoevolution.com/' + make.lower() +'/'+ str(model).lower() +'/'\n",
        "    page = requests.get(URL)\n",
        "    soup = BeautifulSoup(page.content, 'html.parser')\n",
        "    x = soup.find_all('span', class_='col-green2')[0].text\n",
        "    print(x)\n",
        "    match = re.search(r'[+-]?(\\d+(\\.\\d*)?|\\.\\d+)([eE][+-]?\\d+)?', x)\n",
        "    print(match.group(1))\n",
        "    \n",
        "    return match.group(1)"
      ],
      "execution_count": 0,
      "outputs": []
    },
    {
      "cell_type": "code",
      "metadata": {
        "id": "T-sUDWhP-itx",
        "colab_type": "code",
        "colab": {}
      },
      "source": [
        "df.head()"
      ],
      "execution_count": 0,
      "outputs": []
    },
    {
      "cell_type": "code",
      "metadata": {
        "id": "9vpQwcWUDNqd",
        "colab_type": "code",
        "colab": {}
      },
      "source": [
        "# objectif : test Linear Regression,Gradient Boost,Random Forest,Light GBM, XGBoost, KMeans + LinReon"
      ],
      "execution_count": 0,
      "outputs": []
    },
    {
      "cell_type": "code",
      "metadata": {
        "id": "Qtm1sAjzDpMb",
        "colab_type": "code",
        "colab": {}
      },
      "source": [
        "#on test random forest\n"
      ],
      "execution_count": 0,
      "outputs": []
    },
    {
      "cell_type": "code",
      "metadata": {
        "id": "6SP7cv4eBBOA",
        "colab_type": "code",
        "colab": {}
      },
      "source": [
        "from sklearn.model_selection import train_test_split\n",
        "from sklearn.ensemble import RandomForestClassifier\n",
        "\n",
        "train_features, test_features, train_labels, test_labels = train_test_split(features, labels, test_size = 0.25, random_state = 42)"
      ],
      "execution_count": 0,
      "outputs": []
    },
    {
      "cell_type": "code",
      "metadata": {
        "id": "6BoUTu-GCPsr",
        "colab_type": "code",
        "colab": {}
      },
      "source": [
        "print('Training Features Shape:', train_features.shape)\n",
        "print('Training Labels Shape:', train_labels.shape)\n",
        "print('Testing Features Shape:', test_features.shape)\n",
        "print('Testing Labels Shape:', test_labels.shape)"
      ],
      "execution_count": 0,
      "outputs": []
    },
    {
      "cell_type": "code",
      "metadata": {
        "id": "m2qehFiICxQt",
        "colab_type": "code",
        "colab": {}
      },
      "source": [
        "df = RandomForestRegressor(n_estimators = 100, random_state = 42)\n",
        "# Train the model on training data\n",
        "df.fit(train_features, train_labels);"
      ],
      "execution_count": 0,
      "outputs": []
    },
    {
      "cell_type": "code",
      "metadata": {
        "id": "2BOLDj8iC50u",
        "colab_type": "code",
        "colab": {}
      },
      "source": [
        "predictions = df.predict(test_features)\n",
        "# Calculate the absolute errors\n",
        "errors = abs(predictions - test_labels)\n",
        "# Print out the mean absolute error (mae)\n",
        "print('Mean Absolute Error:', round(np.mean(errors), 2), 'degrees.')\n",
        "Mean Absolute Error: 3.83 degrees."
      ],
      "execution_count": 0,
      "outputs": []
    },
    {
      "cell_type": "code",
      "metadata": {
        "id": "-o2axBisC-zg",
        "colab_type": "code",
        "colab": {}
      },
      "source": [
        "#Calculate mean absolute percentage error (MAPE)\n",
        "mape = 100 * (errors / test_labels)\n",
        "# Calculate and display accuracy\n",
        "accuracy = 100 - np.mean(mape)\n",
        "print('Accuracy:', round(accuracy, 2), '%.')\n"
      ],
      "execution_count": 0,
      "outputs": []
    },
    {
      "cell_type": "code",
      "metadata": {
        "id": "u6GZL4dFDCRm",
        "colab_type": "code",
        "colab": {}
      },
      "source": [
        ""
      ],
      "execution_count": 0,
      "outputs": []
    }
  ]
}